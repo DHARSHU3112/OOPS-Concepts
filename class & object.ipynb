{
 "cells": [
  {
   "cell_type": "code",
   "execution_count": 1,
   "id": "8de03af1-efdd-472e-9886-dc36bbf96f72",
   "metadata": {},
   "outputs": [],
   "source": [
    "a=[1]"
   ]
  },
  {
   "cell_type": "code",
   "execution_count": 2,
   "id": "cc251df8-1d8b-4017-a30d-e516cfe6886b",
   "metadata": {},
   "outputs": [],
   "source": [
    "a.append([2,3,4,5])"
   ]
  },
  {
   "cell_type": "code",
   "execution_count": 3,
   "id": "e5961dda-8808-46bc-b1fb-ccea2f1d150f",
   "metadata": {},
   "outputs": [
    {
     "data": {
      "text/plain": [
       "2"
      ]
     },
     "execution_count": 3,
     "metadata": {},
     "output_type": "execute_result"
    }
   ],
   "source": [
    "len(a)"
   ]
  },
  {
   "cell_type": "code",
   "execution_count": 4,
   "id": "e1138c2a-f608-44ba-88e5-bf6cf0da889d",
   "metadata": {},
   "outputs": [],
   "source": [
    " B=[1,2,[3,'a'],[4,'b']]"
   ]
  },
  {
   "cell_type": "code",
   "execution_count": 5,
   "id": "f8330800-f309-4d52-854e-78b020bcba45",
   "metadata": {},
   "outputs": [
    {
     "data": {
      "text/plain": [
       "'b'"
      ]
     },
     "execution_count": 5,
     "metadata": {},
     "output_type": "execute_result"
    }
   ],
   "source": [
    "B[3][1]"
   ]
  },
  {
   "cell_type": "markdown",
   "id": "fcd5de7a-79a8-4300-909d-e69cfaf0adee",
   "metadata": {},
   "source": [
    "## how to create class and object"
   ]
  },
  {
   "cell_type": "code",
   "execution_count": 5,
   "id": "b7fb28e0-c7c0-4ff9-8fea-ff2bd4db0edb",
   "metadata": {},
   "outputs": [
    {
     "name": "stdout",
     "output_type": "stream",
     "text": [
      "22\n"
     ]
    }
   ],
   "source": [
    "class human:\n",
    "    name = \"none\"\n",
    "    age = \"none\"\n",
    "    height = \"none\"\n",
    "    weight = \"none\" #name,age,height,weight are the states of class human\n",
    "\n",
    "person = human() # person is object name where human() is a object\n",
    "person.name = \"tony\"\n",
    "person.age = 22\n",
    "person.height = 149\n",
    "person.weight = 48\n",
    "\n",
    "print(person.age)"
   ]
  },
  {
   "cell_type": "code",
   "execution_count": 6,
   "id": "bef227c0-dc97-4d81-aaf1-75b70abe6e61",
   "metadata": {},
   "outputs": [
    {
     "name": "stdout",
     "output_type": "stream",
     "text": [
      "22\n",
      "sam\n"
     ]
    }
   ],
   "source": [
    "class human:\n",
    "    name = \"none\"\n",
    "    age = \"none\"\n",
    "    height = \"none\"\n",
    "    weight = \"none\" \n",
    "\n",
    "person = human() \n",
    "person.name = \"tony\"\n",
    "person.age = 22\n",
    "person.height = 149\n",
    "person.weight = 48\n",
    "\n",
    "person2 = human()\n",
    "person2.name = \"sam\"\n",
    "person2.age = 21\n",
    "person2.height = 154\n",
    "person2.weight = 50\n",
    "\n",
    "print(person.age)\n",
    "print(person2.name)"
   ]
  },
  {
   "cell_type": "markdown",
   "id": "68fdc9df-b51e-4e38-9e21-628060e2bb23",
   "metadata": {},
   "source": [
    "## how to add behaviour (using function)"
   ]
  },
  {
   "cell_type": "code",
   "execution_count": 18,
   "id": "2389958c-50d2-46d4-aa4b-0546eee494bc",
   "metadata": {},
   "outputs": [
    {
     "name": "stdout",
     "output_type": "stream",
     "text": [
      "22\n",
      "sam\n",
      "tony is sleeping\n"
     ]
    }
   ],
   "source": [
    "class human:\n",
    "    name = \"none\"\n",
    "    age = \"none\"\n",
    "    height = \"none\"\n",
    "    weight = \"none\" \n",
    "\n",
    "    def sleep(self):\n",
    "        print(self.name + \" is sleeping\")\n",
    "\n",
    "person = human() \n",
    "person.name = \"tony\"\n",
    "person.age = 22\n",
    "person.height = 149\n",
    "person.weight = 48\n",
    "\n",
    "person2 = human()\n",
    "person2.name = \"sam\"\n",
    "person2.age = 21\n",
    "person2.height = 154\n",
    "person2.weight = 50\n",
    "\n",
    "print(person.age)\n",
    "print(person2.name)\n",
    "person.sleep()\n"
   ]
  },
  {
   "cell_type": "code",
   "execution_count": 9,
   "id": "226fb822-b35a-47bb-83c5-9f816cd049db",
   "metadata": {},
   "outputs": [
    {
     "name": "stdout",
     "output_type": "stream",
     "text": [
      "Hello raja,Let's drive!\n"
     ]
    }
   ],
   "source": [
    "class car:\n",
    "    def accelerate(self,name):# name is parameter,passing initialized object via self\n",
    "        print(f\"Hello {name},Let's drive!\")\n",
    "\n",
    "my_car = car() # object initialization\n",
    "my_car.accelerate(\"raja\") # my_car is passed through self,raja is passed through name parameter"
   ]
  },
  {
   "cell_type": "code",
   "execution_count": 11,
   "id": "327dad6d-34c8-44f1-a312-39a3b737324b",
   "metadata": {},
   "outputs": [
    {
     "name": "stdout",
     "output_type": "stream",
     "text": [
      "Hello raja,Let's drive!\n"
     ]
    }
   ],
   "source": [
    "class car:\n",
    "    def accelerate(self,name):\n",
    "        return f\"Hello {name},Let's drive!\"\n",
    "\n",
    "my_car = car()\n",
    "print(my_car.accelerate(\"raja\"))"
   ]
  },
  {
   "cell_type": "markdown",
   "id": "b953a8cf-655a-4e90-9f4e-556532bb4776",
   "metadata": {},
   "source": [
    "## To find which instance is going to function"
   ]
  },
  {
   "cell_type": "code",
   "execution_count": 14,
   "id": "0d5fe98b-ad49-4893-be64-51fede87ac8a",
   "metadata": {},
   "outputs": [
    {
     "name": "stdout",
     "output_type": "stream",
     "text": [
      "<__main__.car object at 0x00000290C3BEBD50>\n",
      "Hello raja,Let's drive!\n"
     ]
    }
   ],
   "source": [
    "class car:\n",
    "    def accelerate(self,name):\n",
    "        print(self) #to find object instance\n",
    "        return f\"Hello {name},Let's drive!\"\n",
    "\n",
    "my_car = car() \n",
    "print(my_car.accelerate(\"raja\"))"
   ]
  },
  {
   "cell_type": "markdown",
   "id": "41394208-e0bf-423e-8513-8ef09997acf9",
   "metadata": {},
   "source": [
    "## How to initialize 2 objects "
   ]
  },
  {
   "cell_type": "code",
   "execution_count": 15,
   "id": "ef495e93-4a5e-498a-b540-5abf2f3a1ebb",
   "metadata": {},
   "outputs": [
    {
     "name": "stdout",
     "output_type": "stream",
     "text": [
      "<__main__.car object at 0x00000290C3BEBC90>\n",
      "Hello raja,Let's drive!\n",
      "<__main__.car object at 0x00000290C3BEBD50>\n",
      "Hello siva,Let's drive!\n"
     ]
    }
   ],
   "source": [
    "class car:\n",
    "    def accelerate(self,name):\n",
    "        print(self)\n",
    "        return f\"Hello {name},Let's drive!\"\n",
    "\n",
    "my_car = car() \n",
    "print(my_car.accelerate(\"raja\"))\n",
    "\n",
    "car1 = car()\n",
    "print(car1.accelerate(\"siva\"))"
   ]
  },
  {
   "cell_type": "markdown",
   "id": "1906ead8-4099-4bdf-88cb-4a4677982a58",
   "metadata": {},
   "source": [
    "## How to create calculator"
   ]
  },
  {
   "cell_type": "code",
   "execution_count": 1,
   "id": "ccde57b1-52b3-47f5-8990-308a963e7a78",
   "metadata": {},
   "outputs": [
    {
     "name": "stdout",
     "output_type": "stream",
     "text": [
      "6\n",
      "2\n",
      "8\n",
      "2.0\n"
     ]
    }
   ],
   "source": [
    "class calc:\n",
    "    def add(self,a,b):\n",
    "        return a+b\n",
    "    def sub(self,a,b):\n",
    "        return a-b\n",
    "    def mul(self,a,b):\n",
    "        return a*b\n",
    "    def div(self,a,b):\n",
    "        return a/b\n",
    "calculator = calc() # initializing object\n",
    "addition = calculator.add(4,2)\n",
    "print(addition)\n",
    "\n",
    "subtraction = calculator.sub(4,2)\n",
    "print(subtraction)\n",
    "\n",
    "multiplication = calculator.mul(4,2)\n",
    "print(multiplication)\n",
    "\n",
    "division = calculator.div(4,2)\n",
    "print(division)\n",
    "\n"
   ]
  },
  {
   "cell_type": "code",
   "execution_count": null,
   "id": "52d783a4-c3fb-4daa-a455-a1b498b771b4",
   "metadata": {},
   "outputs": [],
   "source": [
    "class calc:\n",
    "    def div(self,a,b):\n",
    "        return a/b\n",
    "\n",
    "calculator = calc()\n",
    "division = calculator.div(4,0) # if we divide 4/0 = infinity it leads to Zerodivisionerror \n",
    "print(division)\n",
    "    "
   ]
  },
  {
   "cell_type": "markdown",
   "id": "b734c995-3ed3-4878-90fb-d856357542aa",
   "metadata": {},
   "source": [
    "## How to handle ZeroDivisionError "
   ]
  },
  {
   "cell_type": "code",
   "execution_count": 4,
   "id": "ee33ad4a-4be0-4777-b3ae-d45e8f0ece8e",
   "metadata": {},
   "outputs": [
    {
     "name": "stdout",
     "output_type": "stream",
     "text": [
      "Division is Impossible\n",
      "2.0\n"
     ]
    }
   ],
   "source": [
    "class calc:\n",
    "    def div(self,a,b):\n",
    "        if b == 0:\n",
    "            return \"Division is Impossible\"\n",
    "        return a/b   \n",
    "calculator = calc()\n",
    "division = calculator.div(4,0)\n",
    "print(division)\n",
    "xxx = calculator.div(4,2)\n",
    "print(xxx)"
   ]
  },
  {
   "cell_type": "markdown",
   "id": "62349b8b-87c2-4451-abcd-31791144772a",
   "metadata": {},
   "source": [
    "## constructor\n",
    " \n",
    "  "
   ]
  },
  {
   "cell_type": "code",
   "execution_count": null,
   "id": "d20049ca-3fae-4273-b5fa-471cac43dcb3",
   "metadata": {},
   "outputs": [],
   "source": [
    "## A constructor is a special method called when an object is created. \n",
    "## Its purpose is to assign values to the data members within the class when an object is initialized.\n",
    "## The name of the constructor method is always __init__ . \n",
    "## The __init__ method is commonly referred to as the “constructor” because it is responsible for constructing the object. \n",
    "## It is called automatically when the object is created, and it is used to initialize the object’s attributes."
   ]
  },
  {
   "cell_type": "code",
   "execution_count": 11,
   "id": "4815b3ed-5099-4355-ab90-ecf631b1285a",
   "metadata": {},
   "outputs": [
    {
     "name": "stdout",
     "output_type": "stream",
     "text": [
      "John\n",
      "30\n"
     ]
    }
   ],
   "source": [
    "class Person:\n",
    "    def __init__(self, name, age): # constructor \n",
    "        self.name = name\n",
    "        self.age = age\n",
    "\n",
    "p = Person(\"John\", 30) # object initialize\n",
    "print(p.name)\n",
    "print(p.age)"
   ]
  },
  {
   "cell_type": "code",
   "execution_count": null,
   "id": "247b8669-78e1-4986-8312-caee5cb887d0",
   "metadata": {},
   "outputs": [],
   "source": [
    "class Person:\n",
    "    def __init__(self, name, age):\n",
    "        self.name = name\n",
    "        \n",
    "d = Person(\"John\")\n",
    "print(d.name)\n",
    " # typeerror = Person.__init__() missing 1 required positional argument: 'age'"
   ]
  },
  {
   "cell_type": "code",
   "execution_count": 13,
   "id": "f3a9af1a-4906-4c95-a346-25b473563085",
   "metadata": {},
   "outputs": [
    {
     "name": "stdout",
     "output_type": "stream",
     "text": [
      "John\n",
      "30\n"
     ]
    }
   ],
   "source": [
    "## Default Constructor\n",
    "#Default constructors are useful when you want to create an object with a predefined set of attributes, but you don’t want to specify the values of those attributes when the object is created \n",
    "\n",
    "class Person:\n",
    "    def __init__(self):\n",
    "        self.name = \"John\" # assigning default values for name & age\n",
    "        self.age = 30\n",
    "\n",
    "person = Person()\n",
    "print(person.name)\n",
    "print(person.age)"
   ]
  },
  {
   "cell_type": "code",
   "execution_count": 7,
   "id": "33283fd7-a99e-4350-bf55-87931e54f07a",
   "metadata": {},
   "outputs": [
    {
     "name": "stdout",
     "output_type": "stream",
     "text": [
      "Alice\n",
      "25\n"
     ]
    }
   ],
   "source": [
    "## parameterized constructor\n",
    "#Parameterized constructors are useful when you want to create an object with custom values for its attributes. \n",
    "#They allow you to specify the values of the object’s attributes when the object is created, rather than using default values\n",
    "class Person:\n",
    "    def __init__(self, name, age):\n",
    "        self.name = name\n",
    "        self.age = age\n",
    "\n",
    "person = Person(\"Alice\", 25)\n",
    "print(person.name)\n",
    "print(person.age)"
   ]
  },
  {
   "cell_type": "code",
   "execution_count": 14,
   "id": "c18fa663-28ff-4e07-a35b-26f1f1d21473",
   "metadata": {},
   "outputs": [
    {
     "name": "stdout",
     "output_type": "stream",
     "text": [
      "10\n",
      "20\n"
     ]
    }
   ],
   "source": [
    "## Non Parameterized constructor\n",
    "#There is no need for a non-parameterized constructor in Python.\n",
    "class MyClass:\n",
    "    def __init__(self):\n",
    "        self.arg1 = 10\n",
    "        self.arg2 = 20\n",
    "\n",
    "obj = MyClass()\n",
    "print(obj.arg1)\n",
    "print(obj.arg2)"
   ]
  },
  {
   "cell_type": "markdown",
   "id": "8238bb29-3f53-4201-a4cc-ec4fc07feb56",
   "metadata": {},
   "source": [
    "## Rules For Constructor"
   ]
  },
  {
   "cell_type": "code",
   "execution_count": null,
   "id": "6e6bf62f-d526-41f2-8e96-437b424da642",
   "metadata": {},
   "outputs": [],
   "source": [
    " 1.The constructor method must be named __init__. This is a special name that is recognized by Python as the constructor method.\n",
    " 2.The first argument of the constructor method must be self. This is a reference to the object itself, and it is used to access the object’s \n",
    " attributes and methods.\n",
    " 3.The constructor method must be defined inside the class definition. It cannot be defined outside the class.\n",
    " 4.The constructor method is called automatically when an object is created. You don’t need to call it explicitly. \n",
    " 5.You can define both default and parameterized constructors in a class. If you define both, the parameterized constructor will be used \n",
    " when you pass arguments to the object constructor, and the default constructor will be used when you don’t pass any arguments."
   ]
  },
  {
   "cell_type": "markdown",
   "id": "2555c985-cff2-491e-8bbf-927ca692fd29",
   "metadata": {},
   "source": [
    "## Multiple Constructor"
   ]
  },
  {
   "cell_type": "code",
   "execution_count": null,
   "id": "e6b0e044-3938-4ec7-b60f-ecde0caa1a49",
   "metadata": {},
   "outputs": [],
   "source": [
    "More than one constructor in a single Python class. This is known as “method overloading”.\n",
    "To do this,need to use the same method name (in this case, the name of the method will be the same as the name of the class) but \n",
    "define the method with different numbers or types of arguments."
   ]
  },
  {
   "cell_type": "markdown",
   "id": "f957e93e-d8d2-4181-be5f-fd33aecc6b29",
   "metadata": {},
   "source": [
    " ## Explanation for Below program\n",
    "The first constructor takes two arguments and sets them as instance variables, \n",
    "while the second constructor takes only one argument and sets it as an instance variable. \n",
    "When you create an instance of the MyClass class, \n",
    "Python will use the appropriate constructor based on the number of arguments that you pass."
   ]
  },
  {
   "cell_type": "code",
   "execution_count": 16,
   "id": "dfb5a4e9-3870-42e4-a181-f6168d41afef",
   "metadata": {},
   "outputs": [],
   "source": [
    "class MyClass:\n",
    "    def __init__(self, arg1, arg2):\n",
    "        self.arg1 = arg1\n",
    "        self.arg2 = arg2\n",
    "    \n",
    "    def __init__(self, arg1):\n",
    "        self.arg1 = arg1\n",
    "        self.arg2 = None"
   ]
  },
  {
   "cell_type": "markdown",
   "id": "acee91a4-bd29-4adb-a1dc-f7937bb02253",
   "metadata": {},
   "source": [
    " In the first case, the first constructor will be called and arg1 will be set to 10 and arg2 will be set to 20. In the second case, the second constructor will be called and arg1 will be set to 30 and arg2 will be set to None."
   ]
  },
  {
   "cell_type": "code",
   "execution_count": null,
   "id": "6a928c4c-3eaa-4f45-8a03-22bc685eaf27",
   "metadata": {},
   "outputs": [],
   "source": [
    "class MyClass:\n",
    "    def __init__(self, arg1, arg2):\n",
    "        self.arg1 = arg1\n",
    "        self.arg2 = arg2\n",
    "    \n",
    "    def __init__(self, arg1):\n",
    "        self.arg1 = arg1\n",
    "        self.arg2 = None\n",
    "        \n",
    "obj1 = MyClass(10, 20)\n",
    "obj2 = MyClass(30)\n",
    "# Typeerror:obj1 = MyClass(10, 20) will raise a TypeError because the second __init__ method expects only one argument, but two were provided.\n",
    "# obj2 = MyClass(30) will work fine, setting arg1 to 30 and arg2 to None"
   ]
  },
  {
   "cell_type": "markdown",
   "id": "c963c544-eb02-4856-a32b-dd6eff2e32cb",
   "metadata": {},
   "source": [
    "Python does not have true method overloading like some other programming languages. \n",
    "When you define multiple methods with the same name in a single class, only the last one will be used\n",
    "However, use default values for arguments to achieve a similar effect."
   ]
  },
  {
   "cell_type": "code",
   "execution_count": 25,
   "id": "98d16c46-4b97-48c3-b84c-ee9b5effd056",
   "metadata": {},
   "outputs": [
    {
     "name": "stdout",
     "output_type": "stream",
     "text": [
      "10 20\n",
      "30 None\n"
     ]
    }
   ],
   "source": [
    "class MyClass:\n",
    "    def __init__(self, arg1, arg2=None):\n",
    "        self.arg1 = arg1\n",
    "        self.arg2 = arg2\n",
    "\n",
    "obj1 = MyClass(10, 20)\n",
    "obj2 = MyClass(30)\n",
    "\n",
    "print(obj1.arg1, obj1.arg2)  # Output: 10 20\n",
    "print(obj2.arg1, obj2.arg2)  # Output: 30 None\n"
   ]
  },
  {
   "cell_type": "code",
   "execution_count": null,
   "id": "08df5f80-3ba3-4b6b-8d79-c280e393cde8",
   "metadata": {},
   "outputs": [],
   "source": []
  }
 ],
 "metadata": {
  "kernelspec": {
   "display_name": "Python 3 (ipykernel)",
   "language": "python",
   "name": "python3"
  },
  "language_info": {
   "codemirror_mode": {
    "name": "ipython",
    "version": 3
   },
   "file_extension": ".py",
   "mimetype": "text/x-python",
   "name": "python",
   "nbconvert_exporter": "python",
   "pygments_lexer": "ipython3",
   "version": "3.11.7"
  }
 },
 "nbformat": 4,
 "nbformat_minor": 5
}
